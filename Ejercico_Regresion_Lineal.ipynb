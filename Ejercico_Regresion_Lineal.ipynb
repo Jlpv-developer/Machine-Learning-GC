{
  "cells": [
    {
      "cell_type": "markdown",
      "metadata": {
        "id": "view-in-github",
        "colab_type": "text"
      },
      "source": [
        "<a href=\"https://colab.research.google.com/github/Jlpv-developer/Machine-Learning-GC/blob/main/Ejercico_Regresion_Lineal.ipynb\" target=\"_parent\"><img src=\"https://colab.research.google.com/assets/colab-badge.svg\" alt=\"Open In Colab\"/></a>"
      ]
    },
    {
      "cell_type": "code",
      "execution_count": 103,
      "metadata": {
        "id": "Ar3Htkg9MHur"
      },
      "outputs": [],
      "source": [
        "#importar\n",
        "import pandas as pd\n",
        "\n",
        "df = pd.read_csv(\"scrap price.csv\")\n",
        "#df.head()\n",
        "#df.shape"
      ]
    },
    {
      "cell_type": "code",
      "execution_count": 112,
      "metadata": {
        "colab": {
          "base_uri": "https://localhost:8080/"
        },
        "id": "F-HFrjuoOJAV",
        "outputId": "4cd6d377-a877-47e7-a523-4f991211f30b"
      },
      "outputs": [
        {
          "output_type": "stream",
          "name": "stdout",
          "text": [
            "     enginesize  horsepower\n",
            "203         145         106\n",
            "179         171         161\n",
            "12          164         121\n",
            "176         122          92\n",
            "121          90          68\n",
            "196         141         114\n",
            "150          92          62\n",
            "95           97          69\n",
            "36           92          76\n",
            "78           92          68\n",
            "47          258         176\n",
            "71          234         155\n",
            "20           90          70\n",
            "30           92          58\n",
            "93           97          69\n",
            "122          98          68\n",
            "9           131         160\n",
            "169         146         116\n",
            "177         122          92\n",
            "137         121         160\n",
            "132         121         110\n",
            "158         110          56\n",
            "26           90          68\n",
            "116         152          95\n",
            "106         181         160\n",
            "131         132          90\n",
            "165          98         112\n",
            "40          110          86\n",
            "89           97          69\n",
            "172         146         116\n",
            "21           90          68\n",
            "94           97          69\n",
            "192          97          68\n",
            "98           97          69\n",
            "74          304         184\n",
            "134         121         110\n",
            "2           152         154\n",
            "86          122          88\n",
            "117         134         142\n",
            "174         110          73\n",
            "147         108          94\n",
            "203    22470.000\n",
            "179    15998.000\n",
            "12     20970.000\n",
            "176    10898.000\n",
            "121     6692.000\n",
            "196    15985.000\n",
            "150     5348.000\n",
            "95      7799.000\n",
            "36      7295.000\n",
            "78      6669.000\n",
            "47     32250.000\n",
            "71     34184.000\n",
            "20      6575.000\n",
            "30      6479.000\n",
            "93      7349.000\n",
            "122     7609.000\n",
            "9      17859.167\n",
            "169     9989.000\n",
            "177    11248.000\n",
            "137    18620.000\n",
            "132    11850.000\n",
            "158     7898.000\n",
            "26      7609.000\n",
            "116    17950.000\n",
            "106    18399.000\n",
            "131     9895.000\n",
            "165     9298.000\n",
            "40     10295.000\n",
            "89      5499.000\n",
            "172    17669.000\n",
            "21      5572.000\n",
            "94      7299.000\n",
            "192    13845.000\n",
            "98      8249.000\n",
            "74     45400.000\n",
            "134    15040.000\n",
            "2      16500.000\n",
            "86      8189.000\n",
            "117    18150.000\n",
            "174    10698.000\n",
            "147    10198.000\n",
            "Name: price, dtype: float64\n"
          ]
        }
      ],
      "source": [
        "X = df.iloc[:,[16,21]]\n",
        "#print(X)\n",
        "y = df.price\n",
        "#print(y)\n",
        "\n",
        "from sklearn.model_selection import train_test_split\n",
        "X_train, X_test, y_train, y_test = train_test_split(X, y, test_size=0.2,random_state=15)\n",
        "print(X_test)\n",
        "print(y_test)"
      ]
    },
    {
      "cell_type": "code",
      "execution_count": 114,
      "metadata": {
        "colab": {
          "base_uri": "https://localhost:8080/",
          "height": 74
        },
        "id": "kSRj3vJQkne5",
        "outputId": "1ed82fec-16ef-4d66-a778-66576b59f550"
      },
      "outputs": [
        {
          "output_type": "execute_result",
          "data": {
            "text/plain": [
              "LinearRegression()"
            ],
            "text/html": [
              "<style>#sk-container-id-14 {color: black;}#sk-container-id-14 pre{padding: 0;}#sk-container-id-14 div.sk-toggleable {background-color: white;}#sk-container-id-14 label.sk-toggleable__label {cursor: pointer;display: block;width: 100%;margin-bottom: 0;padding: 0.3em;box-sizing: border-box;text-align: center;}#sk-container-id-14 label.sk-toggleable__label-arrow:before {content: \"▸\";float: left;margin-right: 0.25em;color: #696969;}#sk-container-id-14 label.sk-toggleable__label-arrow:hover:before {color: black;}#sk-container-id-14 div.sk-estimator:hover label.sk-toggleable__label-arrow:before {color: black;}#sk-container-id-14 div.sk-toggleable__content {max-height: 0;max-width: 0;overflow: hidden;text-align: left;background-color: #f0f8ff;}#sk-container-id-14 div.sk-toggleable__content pre {margin: 0.2em;color: black;border-radius: 0.25em;background-color: #f0f8ff;}#sk-container-id-14 input.sk-toggleable__control:checked~div.sk-toggleable__content {max-height: 200px;max-width: 100%;overflow: auto;}#sk-container-id-14 input.sk-toggleable__control:checked~label.sk-toggleable__label-arrow:before {content: \"▾\";}#sk-container-id-14 div.sk-estimator input.sk-toggleable__control:checked~label.sk-toggleable__label {background-color: #d4ebff;}#sk-container-id-14 div.sk-label input.sk-toggleable__control:checked~label.sk-toggleable__label {background-color: #d4ebff;}#sk-container-id-14 input.sk-hidden--visually {border: 0;clip: rect(1px 1px 1px 1px);clip: rect(1px, 1px, 1px, 1px);height: 1px;margin: -1px;overflow: hidden;padding: 0;position: absolute;width: 1px;}#sk-container-id-14 div.sk-estimator {font-family: monospace;background-color: #f0f8ff;border: 1px dotted black;border-radius: 0.25em;box-sizing: border-box;margin-bottom: 0.5em;}#sk-container-id-14 div.sk-estimator:hover {background-color: #d4ebff;}#sk-container-id-14 div.sk-parallel-item::after {content: \"\";width: 100%;border-bottom: 1px solid gray;flex-grow: 1;}#sk-container-id-14 div.sk-label:hover label.sk-toggleable__label {background-color: #d4ebff;}#sk-container-id-14 div.sk-serial::before {content: \"\";position: absolute;border-left: 1px solid gray;box-sizing: border-box;top: 0;bottom: 0;left: 50%;z-index: 0;}#sk-container-id-14 div.sk-serial {display: flex;flex-direction: column;align-items: center;background-color: white;padding-right: 0.2em;padding-left: 0.2em;position: relative;}#sk-container-id-14 div.sk-item {position: relative;z-index: 1;}#sk-container-id-14 div.sk-parallel {display: flex;align-items: stretch;justify-content: center;background-color: white;position: relative;}#sk-container-id-14 div.sk-item::before, #sk-container-id-14 div.sk-parallel-item::before {content: \"\";position: absolute;border-left: 1px solid gray;box-sizing: border-box;top: 0;bottom: 0;left: 50%;z-index: -1;}#sk-container-id-14 div.sk-parallel-item {display: flex;flex-direction: column;z-index: 1;position: relative;background-color: white;}#sk-container-id-14 div.sk-parallel-item:first-child::after {align-self: flex-end;width: 50%;}#sk-container-id-14 div.sk-parallel-item:last-child::after {align-self: flex-start;width: 50%;}#sk-container-id-14 div.sk-parallel-item:only-child::after {width: 0;}#sk-container-id-14 div.sk-dashed-wrapped {border: 1px dashed gray;margin: 0 0.4em 0.5em 0.4em;box-sizing: border-box;padding-bottom: 0.4em;background-color: white;}#sk-container-id-14 div.sk-label label {font-family: monospace;font-weight: bold;display: inline-block;line-height: 1.2em;}#sk-container-id-14 div.sk-label-container {text-align: center;}#sk-container-id-14 div.sk-container {/* jupyter's `normalize.less` sets `[hidden] { display: none; }` but bootstrap.min.css set `[hidden] { display: none !important; }` so we also need the `!important` here to be able to override the default hidden behavior on the sphinx rendered scikit-learn.org. See: https://github.com/scikit-learn/scikit-learn/issues/21755 */display: inline-block !important;position: relative;}#sk-container-id-14 div.sk-text-repr-fallback {display: none;}</style><div id=\"sk-container-id-14\" class=\"sk-top-container\"><div class=\"sk-text-repr-fallback\"><pre>LinearRegression()</pre><b>In a Jupyter environment, please rerun this cell to show the HTML representation or trust the notebook. <br />On GitHub, the HTML representation is unable to render, please try loading this page with nbviewer.org.</b></div><div class=\"sk-container\" hidden><div class=\"sk-item\"><div class=\"sk-estimator sk-toggleable\"><input class=\"sk-toggleable__control sk-hidden--visually\" id=\"sk-estimator-id-14\" type=\"checkbox\" checked><label for=\"sk-estimator-id-14\" class=\"sk-toggleable__label sk-toggleable__label-arrow\">LinearRegression</label><div class=\"sk-toggleable__content\"><pre>LinearRegression()</pre></div></div></div></div></div>"
            ]
          },
          "metadata": {},
          "execution_count": 114
        }
      ],
      "source": [
        "from sklearn import linear_model\n",
        "model = linear_model.LinearRegression()\n",
        "\n",
        "# Entrenar el modelo:\n",
        "model.fit(X_train, y_train)"
      ]
    },
    {
      "cell_type": "code",
      "execution_count": 115,
      "metadata": {
        "id": "nIltJeR3k2AT"
      },
      "outputs": [],
      "source": [
        "# Predecir el arreglo X_test\n",
        "ypred = model.predict(X_test)"
      ]
    },
    {
      "cell_type": "code",
      "source": [
        "# Metricas\n",
        "# Coefiencia de determinacion\n",
        "r2 = model.score(X_test, y_test)\n",
        "print(r2)"
      ],
      "metadata": {
        "colab": {
          "base_uri": "https://localhost:8080/"
        },
        "id": "BoZ5Zi3Cq4TQ",
        "outputId": "11129d59-316f-437f-c90b-19b1c296f426"
      },
      "execution_count": 116,
      "outputs": [
        {
          "output_type": "stream",
          "name": "stdout",
          "text": [
            "0.8835346033943731\n"
          ]
        }
      ]
    },
    {
      "cell_type": "code",
      "source": [
        "#MAE y MSE\n",
        "from sklearn.metrics import mean_absolute_error, mean_squared_error, mean_squared_log_error\n",
        "import numpy as np\n",
        "print(\"MAE: \", mean_absolute_error(y_test, ypred))\n",
        "print(\"MSE:\", mean_squared_error(y_test, ypred, squared=False))"
      ],
      "metadata": {
        "colab": {
          "base_uri": "https://localhost:8080/"
        },
        "id": "MhRc7nJSyBbt",
        "outputId": "aae31050-b467-4320-f0d2-bcfcdab49803"
      },
      "execution_count": 118,
      "outputs": [
        {
          "output_type": "stream",
          "name": "stdout",
          "text": [
            "MAE:  1933.925370038079\n",
            "MSE: 2849.5017593003627\n"
          ]
        }
      ]
    },
    {
      "cell_type": "code",
      "source": [
        "#Predecir un solo valor:\n",
        "var = model.predict([[115,80]])\n",
        "print(var)"
      ],
      "metadata": {
        "colab": {
          "base_uri": "https://localhost:8080/"
        },
        "id": "i-Xp_npmyox0",
        "outputId": "06331417-2f2b-4553-c1fd-0768bb8262f8"
      },
      "execution_count": 119,
      "outputs": [
        {
          "output_type": "stream",
          "name": "stdout",
          "text": [
            "[10308.36321102]\n"
          ]
        },
        {
          "output_type": "stream",
          "name": "stderr",
          "text": [
            "/usr/local/lib/python3.10/dist-packages/sklearn/base.py:465: UserWarning: X does not have valid feature names, but LinearRegression was fitted with feature names\n",
            "  warnings.warn(\n"
          ]
        }
      ]
    },
    {
      "cell_type": "markdown",
      "source": [],
      "metadata": {
        "id": "xEU6g8KIrGdt"
      }
    }
  ],
  "metadata": {
    "colab": {
      "provenance": [],
      "authorship_tag": "ABX9TyNtQxm1ZIafybetHxoZJoFU",
      "include_colab_link": true
    },
    "kernelspec": {
      "display_name": "Python 3",
      "name": "python3"
    },
    "language_info": {
      "name": "python"
    }
  },
  "nbformat": 4,
  "nbformat_minor": 0
}